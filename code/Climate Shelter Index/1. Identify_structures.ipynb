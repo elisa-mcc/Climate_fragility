{
 "cells": [
  {
   "cell_type": "markdown",
   "metadata": {},
   "source": [
    "This script identifies the structures needed to compute the Climate Shelter Index (CSI), in particular:\n",
    "- Surface Area of Green Spaces\n",
    "- Presence of drinking fountains\n",
    "- Presence of picnic tables and benches (rest area)\n",
    "\n",
    "Each green area in the final dataset is public and free"
   ]
  },
  {
   "cell_type": "markdown",
   "metadata": {},
   "source": [
    "### 0. Libraries"
   ]
  },
  {
   "cell_type": "code",
   "execution_count": null,
   "metadata": {},
   "outputs": [],
   "source": [
    "# libraries\n",
    "import os\n",
    "import geopandas as gpd\n",
    "import shapely  #1.8.5 version \n",
    "from shapely.geometry import Polygon\n",
    "from shapely.geometry import Point\n",
    "import matplotlib\n",
    "import mapclassify\n",
    "import rasterio\n",
    "import numpy as np # 1.23.5 version\n",
    "import pandas as pd\n",
    "import urllib.request\n",
    "import pyrosm"
   ]
  },
  {
   "cell_type": "markdown",
   "metadata": {},
   "source": [
    "### 1. Surface Area \n",
    "Calculate the surface area of each public green space in the municipality of Bologna"
   ]
  },
  {
   "cell_type": "code",
   "execution_count": 2,
   "metadata": {},
   "outputs": [],
   "source": [
    "# Load the shapefile of 'unità gestionali'\n",
    "un_gest = gpd.read_file(r\"D:\\Climate_Shelter_Index\\unità_gestestionali_bologna\\un_gest.shp\")"
   ]
  },
  {
   "cell_type": "code",
   "execution_count": 3,
   "metadata": {},
   "outputs": [],
   "source": [
    "# Remove rows with empty geometries (if present)\n",
    "un_gest = un_gest[un_gest['geometry'].notna()]"
   ]
  },
  {
   "cell_type": "code",
   "execution_count": 4,
   "metadata": {},
   "outputs": [
    {
     "data": {
      "text/plain": [
       "array([\"VERDE D'ARREDO STRADALE\", \"VERDE D'ARREDO\", 'VERDE SCOLASTICO',\n",
       "       'PARCHEGGIO', 'GIARDINO', 'PARCO', 'PARCO ESTENSIVO',\n",
       "       'CORPO IDRICO (laghetti, ruscelli, e fossi in collina)',\n",
       "       'VERDE SPORTIVO'], dtype=object)"
      ]
     },
     "execution_count": 4,
     "metadata": {},
     "output_type": "execute_result"
    }
   ],
   "source": [
    "# Check which categories are available \n",
    "un_gest.classe_unit.unique()"
   ]
  },
  {
   "cell_type": "code",
   "execution_count": 5,
   "metadata": {},
   "outputs": [],
   "source": [
    "# List of categories to exclude\n",
    "categories_to_exclude = ['PARCHEGGIO', \"VERDE D'ARREDO\", \"VERDE D'ARREDO STRADALE\", \n",
    "                         'CORPO IDRICO (laghetti, ruscelli, e fossi in collina)']\n",
    "\n",
    "# Filter to exclude the specified categories and keep all types of green areas\n",
    "ar_vrd = un_gest[~un_gest['classe_unit'].isin(categories_to_exclude)]\n"
   ]
  },
  {
   "cell_type": "code",
   "execution_count": null,
   "metadata": {},
   "outputs": [],
   "source": [
    "ar_vrd['area_prato'] = pd.to_numeric(ar_vrd['area_prato'], errors='coerce')"
   ]
  },
  {
   "cell_type": "code",
   "execution_count": null,
   "metadata": {},
   "outputs": [],
   "source": [
    "# Calculate surface of green area in hectares\n",
    "ar_vrd['area_Ha'] = ar_vrd['area_prato'] / 10000"
   ]
  },
  {
   "cell_type": "code",
   "execution_count": null,
   "metadata": {},
   "outputs": [],
   "source": [
    "# Save the GeoDataFrame with the surface area as a shapefile\n",
    "ar_vrd.to_file(r'D:\\Climate_Shelter_Index\\ar_vrd_surface.shp')"
   ]
  },
  {
   "cell_type": "code",
   "execution_count": 19,
   "metadata": {},
   "outputs": [
    {
     "data": {
      "text/plain": [
       "(930, 21)"
      ]
     },
     "execution_count": 19,
     "metadata": {},
     "output_type": "execute_result"
    }
   ],
   "source": [
    "ar_vrd.shape"
   ]
  },
  {
   "cell_type": "markdown",
   "metadata": {},
   "source": [
    "### 2. Drinking fountains\n",
    "Load data about drinking fountains"
   ]
  },
  {
   "cell_type": "code",
   "execution_count": null,
   "metadata": {},
   "outputs": [],
   "source": [
    "url_download_bologna_pbf = 'https://osmit-estratti.wmcloud.org/dati/poly/comuni/pbf/037006_Bologna.osm.pbf'\n",
    "urllib.request.urlretrieve(url_download_bologna_pbf ,\"bologna_osm.pbf\")\n",
    "osm = pyrosm.OSM(\"bologna_osm.pbf\") "
   ]
  },
  {
   "cell_type": "code",
   "execution_count": null,
   "metadata": {},
   "outputs": [],
   "source": [
    "# Identify drinking fountains using some filters\n",
    "custom_filter = {'amenity': ['drinking_water']}\n",
    "drinking_fountain = osm.get_pois(custom_filter=custom_filter)"
   ]
  },
  {
   "cell_type": "code",
   "execution_count": null,
   "metadata": {},
   "outputs": [],
   "source": [
    "# Create a GeoDataFrame for drinking fountains\n",
    "drinking_fountain_gdf = gpd.GeoDataFrame(drinking_fountain, geometry=[Point(x, y) for x, y in zip(drinking_fountain[\"lon\"], drinking_fountain[\"lat\"])])"
   ]
  },
  {
   "cell_type": "code",
   "execution_count": null,
   "metadata": {},
   "outputs": [],
   "source": [
    "# Save the GeoDataFrame as a shapefile\n",
    "drinking_fountain_gdf.to_file('D:\\Climate_Shelter_Index\\drinking_fountains.shp')"
   ]
  },
  {
   "cell_type": "markdown",
   "metadata": {},
   "source": [
    "#### Green areas + Drinking fountains\n",
    "Check if there are drinking fountains in the green areas"
   ]
  },
  {
   "cell_type": "code",
   "execution_count": null,
   "metadata": {},
   "outputs": [],
   "source": [
    "# Load the shapefiles\n",
    "green_area = gpd.read_file(r'D:\\Climate_Shelter_Index\\ar_vrd_surface.shp')\n",
    "fountains = gpd.read_file(r\"D:\\Climate_Shelter_Index\\drinking_fountains.shp\")"
   ]
  },
  {
   "cell_type": "code",
   "execution_count": null,
   "metadata": {},
   "outputs": [],
   "source": [
    "# Perform a spatial join to check if each park contains a fountain\n",
    "ga_with_fountains = gpd.sjoin(green_area, fountains, how=\"left\", op=\"intersects\")\n",
    "\n",
    "# Create a new column 'drinking_fountain' indicating if there is a fountain\n",
    "ga_with_fountains[\"drinking_fountain\"] = ga_with_fountains[\"index_right\"].notnull().replace({True: \"yes\", False: \"no\"})"
   ]
  },
  {
   "cell_type": "code",
   "execution_count": null,
   "metadata": {},
   "outputs": [],
   "source": [
    "# Create a new column 'id_fountain' with the ID of the drinking fountain if present\n",
    "ga_with_fountains[\"id_fountain\"] = ga_with_fountains[\"id\"].fillna(\"N/A\")"
   ]
  },
  {
   "cell_type": "code",
   "execution_count": null,
   "metadata": {},
   "outputs": [],
   "source": [
    "# Select the columns you want to keep in the final GeoDataFrame\n",
    "final_columns = ['quart', 'nome', 'ubicazione', 'classe_uni', 'classe_gia', 'classe_pen',\n",
    "       'classe_suo', 'area_prato', 'area_ug', 'data_agg', 'siepi', 'bosco',\n",
    "       'arboreo', 'arbustivo', 'pavim', 'idro', 'quartiere', 'area_stati',\n",
    "       'zona_pross', 'area_Ha', 'geometry', 'drinking_fountain' ,'id_fountain']\n"
   ]
  },
  {
   "cell_type": "code",
   "execution_count": null,
   "metadata": {},
   "outputs": [],
   "source": [
    "# Create a new GeoDataFrame with the selected columns\n",
    "final_gdf = ga_with_fountains[final_columns]\n",
    "\n",
    "final_gdf[\"id_fountain\"] =  final_gdf[\"id_fountain\"].apply(lambda x: str(x).replace('.0', '') if x != 'N/A' else x)\n"
   ]
  },
  {
   "cell_type": "code",
   "execution_count": null,
   "metadata": {},
   "outputs": [],
   "source": [
    "# Rename the column\n",
    "final_gdf.rename(columns={\"drinking_fountain\":\"d_fountain\",\n",
    "                          \"id_fountain\":\"id_df\"\n",
    "                          }, \n",
    "                 inplace=True)"
   ]
  },
  {
   "cell_type": "code",
   "execution_count": null,
   "metadata": {},
   "outputs": [],
   "source": [
    "# Save the final GeoDataFrame as a shapefile\n",
    "final_gdf.to_file(r\"D:\\Climate_Shelter_Index\\ar_vrd_surface_drinkingfount.shp\")\n"
   ]
  },
  {
   "cell_type": "markdown",
   "metadata": {},
   "source": [
    "### 3. Picnic tables\n",
    "Load data about picnic tables"
   ]
  },
  {
   "cell_type": "code",
   "execution_count": null,
   "metadata": {},
   "outputs": [],
   "source": [
    "# Identify picnic tables using some filters\n",
    "custom_filter = {'leisure': ['picnic_table']}\n",
    "picnic_table = osm.get_pois(custom_filter=custom_filter)"
   ]
  },
  {
   "cell_type": "code",
   "execution_count": null,
   "metadata": {},
   "outputs": [],
   "source": [
    "# Create a GeoDataFrame for picnic tables\n",
    "picnic_table_gdf = gpd.GeoDataFrame(picnic_table, geometry=[Point(x, y) for x, y in zip(picnic_table[\"lon\"], picnic_table[\"lat\"])])"
   ]
  },
  {
   "cell_type": "code",
   "execution_count": null,
   "metadata": {},
   "outputs": [],
   "source": [
    "# Save the GeoDataFrame as a shapefile\n",
    "picnic_table_gdf.to_file('D:\\Climate_Shelter_Index\\picnic_tables.shp')"
   ]
  },
  {
   "cell_type": "markdown",
   "metadata": {},
   "source": [
    "#### Green areas + Drinking fountains + Picnic tables\n",
    "Check if there are picnic tables in the green areas"
   ]
  },
  {
   "cell_type": "code",
   "execution_count": 20,
   "metadata": {},
   "outputs": [],
   "source": [
    "# Load the shapefiles\n",
    "ar_vrd_surface_drinkingfount = gpd.read_file(r\"D:\\Climate_Shelter_Index\\ar_vrd_surface_drinkingfount.shp\")\n",
    "picnic_tables = gpd.read_file(r'D:\\Climate_Shelter_Index\\picnic_tables.shp')"
   ]
  },
  {
   "cell_type": "code",
   "execution_count": null,
   "metadata": {},
   "outputs": [],
   "source": [
    "# Perform a spatial join to check if each park contains a picnic table\n",
    "ga_pt = gpd.sjoin(ar_vrd_surface_drinkingfount, picnic_tables, how=\"left\", op=\"intersects\")\n",
    "\n",
    "# Create a new column 'picnic_table' indicating if there is a picnic table\n",
    "ga_pt[\"picnic_table\"] = ga_pt[\"index_right\"].notnull().replace({True: \"yes\", False: \"no\"})"
   ]
  },
  {
   "cell_type": "code",
   "execution_count": null,
   "metadata": {},
   "outputs": [],
   "source": [
    "# Create a new column 'id_pt' with the ID of the picnic table if present\n",
    "ga_pt[\"id_pt\"] = ga_pt[\"id\"].fillna(\"N/A\")"
   ]
  },
  {
   "cell_type": "code",
   "execution_count": null,
   "metadata": {},
   "outputs": [],
   "source": [
    "ga_pt.columns"
   ]
  },
  {
   "cell_type": "code",
   "execution_count": null,
   "metadata": {},
   "outputs": [],
   "source": [
    "final_columns = ['quart', 'nome', 'ubicazione', 'classe_uni', 'classe_gia', 'classe_pen',\n",
    "       'classe_suo', 'area_prato', 'area_ug', 'data_agg', 'siepi', 'bosco',\n",
    "       'arboreo', 'arbustivo', 'pavim', 'idro', 'quartiere', 'area_stati',\n",
    "       'zona_pross', 'area_Ha', 'd_fountain', 'id_df', 'geometry','picnic_table', 'id_pt']\n",
    "\n",
    "# Create a new GeoDataFrame with the selected columns\n",
    "final_gdf2 = ga_pt[final_columns]\n",
    "\n",
    "final_gdf2['id_pt'] = final_gdf2['id_pt'].apply(lambda x: str(x).replace('.0', '') if x != 'N/A' else x)\n"
   ]
  },
  {
   "cell_type": "code",
   "execution_count": null,
   "metadata": {},
   "outputs": [],
   "source": [
    "# Save the final GeoDataFrame as a shapefile\n",
    "final_gdf2.to_file(r\"D:\\Climate_Shelter_Index\\ar_vrd_s_df_pt.shp\")"
   ]
  },
  {
   "cell_type": "markdown",
   "metadata": {},
   "source": [
    "### 4. Benches\n",
    "Load data about benches"
   ]
  },
  {
   "cell_type": "code",
   "execution_count": null,
   "metadata": {},
   "outputs": [],
   "source": [
    "# Identify benches using some filters\n",
    "custom_filter = {'amenity': ['bench']}\n",
    "benches = osm.get_pois(custom_filter=custom_filter)"
   ]
  },
  {
   "cell_type": "code",
   "execution_count": null,
   "metadata": {},
   "outputs": [],
   "source": [
    "# Create a GeoDataFrame for benches\n",
    "benches_gdf = gpd.GeoDataFrame(benches, geometry=[Point(x, y) for x, y in zip(benches[\"lon\"], benches[\"lat\"])])"
   ]
  },
  {
   "cell_type": "code",
   "execution_count": null,
   "metadata": {},
   "outputs": [],
   "source": [
    "# Save the GeoDataFrame as a shapefile\n",
    "benches_gdf.to_file(r'D:\\Climate_Shelter_Index\\benches.shp')"
   ]
  },
  {
   "cell_type": "markdown",
   "metadata": {},
   "source": [
    "#### Green areas + Drinking fountains + Picnic tables + Benches\n",
    "Check if there are benches in the green areas"
   ]
  },
  {
   "cell_type": "code",
   "execution_count": null,
   "metadata": {},
   "outputs": [],
   "source": [
    "# Load shapefiles\n",
    "ar_vrd_s_df_pt = gpd.read_file(r\"D:\\Climate_Shelter_Index\\ar_vrd_s_df_pt.shp\")\n",
    "benches = gpd.read_file(r'D:\\Climate_Shelter_Index\\benches.shp')"
   ]
  },
  {
   "cell_type": "code",
   "execution_count": null,
   "metadata": {},
   "outputs": [],
   "source": [
    "# Perform a spatial join to check if each park contains benches\n",
    "ga_benches = gpd.sjoin(ar_vrd_s_df_pt, benches, how=\"left\", op=\"intersects\")\n",
    "\n",
    "# Create a new column 'benches' indicating if there is a bench\n",
    "ga_benches[\"benches\"] = ga_benches[\"index_right\"].notnull().replace({True: \"yes\", False: \"no\"})"
   ]
  },
  {
   "cell_type": "code",
   "execution_count": null,
   "metadata": {},
   "outputs": [],
   "source": [
    "# Create a new column 'id_bench' with the ID of the bench if present\n",
    "ga_benches[\"id_bench\"] = ga_benches[\"id\"].fillna(\"N/A\")"
   ]
  },
  {
   "cell_type": "code",
   "execution_count": null,
   "metadata": {},
   "outputs": [],
   "source": [
    "ga_benches.columns"
   ]
  },
  {
   "cell_type": "code",
   "execution_count": null,
   "metadata": {},
   "outputs": [],
   "source": [
    "final_columns = ['quart', 'nome', 'ubicazione', 'classe_uni', 'classe_gia', 'classe_pen',\n",
    "       'classe_suo', 'area_prato', 'area_ug', 'data_agg', 'siepi', 'bosco',\n",
    "       'arboreo', 'arbustivo', 'pavim', 'idro', 'quartiere', 'area_stati',\n",
    "       'zona_pross', 'area_Ha', 'd_fountain', 'id_df', 'picnic_tab', 'id_pt',\n",
    "       'geometry', 'benches', 'id_bench']\n",
    "\n",
    "# Create a new GeoDataFrame with the selected columns\n",
    "final_gdf3 = ga_benches[final_columns]\n",
    "\n",
    "final_gdf3['id_bench'] = final_gdf3['id_bench'].apply(lambda x: str(x).replace('.0', '') if x != 'N/A' else x)\n"
   ]
  },
  {
   "cell_type": "code",
   "execution_count": 56,
   "metadata": {},
   "outputs": [],
   "source": [
    "# there are some repetitions so group by the unique identifier ('geometry') and aggregate the IDs of fountain, picnic table or benches into a list\n",
    "unique_identifier_column = 'geometry'  # Replace with your unique identifier column\n",
    "final_gdf4 = final_gdf3.groupby(unique_identifier_column).agg({\n",
    "    'quart': 'first',\n",
    "    'nome': 'first',\n",
    "    'ubicazione': 'first',\n",
    "    'classe_uni': 'first',\n",
    "    'classe_gia': 'first',\n",
    "    'classe_pen': 'first',\n",
    "    'classe_suo': 'first',\n",
    "    'area_prato': 'first',\n",
    "    'area_ug': 'first',\n",
    "    'data_agg': 'first',\n",
    "    'siepi': 'first',\n",
    "    'bosco': 'first',\n",
    "    'arboreo': 'first',\n",
    "    'arbustivo': 'first',\n",
    "    'pavim': 'first',\n",
    "    'idro': 'first',\n",
    "    'quartiere': 'first',\n",
    "    'area_stati': 'first',\n",
    "    'zona_pross': 'first',\n",
    "    'area_Ha': 'first',\n",
    "    'd_fountain': 'first',\n",
    "    'id_df': lambda x: 'N/A' if all(val == 'N/A' for val in x) else ','.join(str(val) for val in x), \n",
    "    'picnic_tab': 'first',\n",
    "    'id_pt': lambda x: 'N/A' if all(val == 'N/A' for val in x) else ','.join(str(val) for val in x),\n",
    "    'benches': 'first', \n",
    "    'id_bench': lambda x: 'N/A' if all(val == 'N/A' for val in x) else ','.join(str(val) for val in x)\n",
    "}).reset_index()"
   ]
  },
  {
   "cell_type": "code",
   "execution_count": 65,
   "metadata": {},
   "outputs": [
    {
     "data": {
      "text/plain": [
       "(930, 27)"
      ]
     },
     "execution_count": 65,
     "metadata": {},
     "output_type": "execute_result"
    }
   ],
   "source": [
    "final_gdf4.shape  # we have again 930 rows"
   ]
  },
  {
   "cell_type": "code",
   "execution_count": 57,
   "metadata": {},
   "outputs": [],
   "source": [
    "# Convert the pandas DataFrame to a GeoDataFrame\n",
    "final_gdf4 = gpd.GeoDataFrame(final_gdf4, geometry=final_gdf4['geometry'])"
   ]
  },
  {
   "cell_type": "code",
   "execution_count": 59,
   "metadata": {},
   "outputs": [],
   "source": [
    "# Save the final GeoDataFrame as a shapefile\n",
    "final_gdf4.to_file(r\"D:\\Climate_Shelter_Index\\ar_vrd_s_df_pt_b.shp\")"
   ]
  },
  {
   "cell_type": "code",
   "execution_count": 63,
   "metadata": {},
   "outputs": [
    {
     "data": {
      "text/html": [
       "<div>\n",
       "<style scoped>\n",
       "    .dataframe tbody tr th:only-of-type {\n",
       "        vertical-align: middle;\n",
       "    }\n",
       "\n",
       "    .dataframe tbody tr th {\n",
       "        vertical-align: top;\n",
       "    }\n",
       "\n",
       "    .dataframe thead th {\n",
       "        text-align: right;\n",
       "    }\n",
       "</style>\n",
       "<table border=\"1\" class=\"dataframe\">\n",
       "  <thead>\n",
       "    <tr style=\"text-align: right;\">\n",
       "      <th></th>\n",
       "      <th>geometry</th>\n",
       "      <th>quart</th>\n",
       "      <th>nome</th>\n",
       "      <th>ubicazione</th>\n",
       "      <th>classe_uni</th>\n",
       "      <th>classe_gia</th>\n",
       "      <th>classe_pen</th>\n",
       "      <th>classe_suo</th>\n",
       "      <th>area_prato</th>\n",
       "      <th>area_ug</th>\n",
       "      <th>...</th>\n",
       "      <th>quartiere</th>\n",
       "      <th>area_stati</th>\n",
       "      <th>zona_pross</th>\n",
       "      <th>area_Ha</th>\n",
       "      <th>d_fountain</th>\n",
       "      <th>id_df</th>\n",
       "      <th>picnic_tab</th>\n",
       "      <th>id_pt</th>\n",
       "      <th>benches</th>\n",
       "      <th>id_bench</th>\n",
       "    </tr>\n",
       "  </thead>\n",
       "  <tbody>\n",
       "    <tr>\n",
       "      <th>0</th>\n",
       "      <td>POLYGON ((11.31509 44.42248, 11.31511 44.42256...</td>\n",
       "      <td>Santo Stefano</td>\n",
       "      <td>PARCO DEI CALANCHI DI SABBIUNO</td>\n",
       "      <td>Via di Sabbiuno</td>\n",
       "      <td>PARCO ESTENSIVO</td>\n",
       "      <td>SOMMITALE</td>\n",
       "      <td>0 -20%</td>\n",
       "      <td>ARGILLOSO COMPATTO</td>\n",
       "      <td>9509.007</td>\n",
       "      <td>12461.168</td>\n",
       "      <td>...</td>\n",
       "      <td>Santo Stefano</td>\n",
       "      <td>PADERNO</td>\n",
       "      <td>OSSERVANZA - PADERNO</td>\n",
       "      <td>0.950901</td>\n",
       "      <td>no</td>\n",
       "      <td>N/A</td>\n",
       "      <td>no</td>\n",
       "      <td>N/A</td>\n",
       "      <td>no</td>\n",
       "      <td>N/A</td>\n",
       "    </tr>\n",
       "    <tr>\n",
       "      <th>1</th>\n",
       "      <td>POLYGON ((11.31288 44.42104, 11.31289 44.42109...</td>\n",
       "      <td>Santo Stefano</td>\n",
       "      <td>GIARDINO MONUMENTO CADUTI DI SABBIUNO</td>\n",
       "      <td>Via di Sabbiuno</td>\n",
       "      <td>PARCO</td>\n",
       "      <td>SOMMITALE</td>\n",
       "      <td>0 -20%</td>\n",
       "      <td>ARGILLOSO COMPATTO</td>\n",
       "      <td>5514.205</td>\n",
       "      <td>6730.89</td>\n",
       "      <td>...</td>\n",
       "      <td>Santo Stefano</td>\n",
       "      <td>PADERNO</td>\n",
       "      <td>OSSERVANZA - PADERNO</td>\n",
       "      <td>0.551420</td>\n",
       "      <td>no</td>\n",
       "      <td>N/A</td>\n",
       "      <td>no</td>\n",
       "      <td>N/A</td>\n",
       "      <td>no</td>\n",
       "      <td>N/A</td>\n",
       "    </tr>\n",
       "    <tr>\n",
       "      <th>2</th>\n",
       "      <td>POLYGON ((11.31463 44.42146, 11.31496 44.42149...</td>\n",
       "      <td>Santo Stefano</td>\n",
       "      <td>PARCO DEI CALANCHI DI SABBIUNO</td>\n",
       "      <td>Via di Sabbiuno</td>\n",
       "      <td>PARCO ESTENSIVO</td>\n",
       "      <td>SOMMITALE</td>\n",
       "      <td>0 -20%</td>\n",
       "      <td>ARGILLOSO COMPATTO</td>\n",
       "      <td>16811.194</td>\n",
       "      <td>24817.745</td>\n",
       "      <td>...</td>\n",
       "      <td>Santo Stefano</td>\n",
       "      <td>PADERNO</td>\n",
       "      <td>OSSERVANZA - PADERNO</td>\n",
       "      <td>1.681119</td>\n",
       "      <td>no</td>\n",
       "      <td>N/A</td>\n",
       "      <td>no</td>\n",
       "      <td>N/A</td>\n",
       "      <td>no</td>\n",
       "      <td>N/A</td>\n",
       "    </tr>\n",
       "    <tr>\n",
       "      <th>3</th>\n",
       "      <td>POLYGON ((11.32362 44.45097, 11.32372 44.45110...</td>\n",
       "      <td>Santo Stefano</td>\n",
       "      <td>PARCO PADERNO</td>\n",
       "      <td>Via Paderno</td>\n",
       "      <td>PARCO ESTENSIVO</td>\n",
       "      <td>PIANO</td>\n",
       "      <td>20 - 40%</td>\n",
       "      <td>MEDIO IMPASTO</td>\n",
       "      <td>87.272</td>\n",
       "      <td>6250.574</td>\n",
       "      <td>...</td>\n",
       "      <td>Santo Stefano</td>\n",
       "      <td>PADERNO</td>\n",
       "      <td>OSSERVANZA - PADERNO</td>\n",
       "      <td>0.008727</td>\n",
       "      <td>no</td>\n",
       "      <td>N/A</td>\n",
       "      <td>no</td>\n",
       "      <td>N/A</td>\n",
       "      <td>no</td>\n",
       "      <td>N/A</td>\n",
       "    </tr>\n",
       "    <tr>\n",
       "      <th>4</th>\n",
       "      <td>POLYGON ((11.32160 44.45340, 11.32164 44.45341...</td>\n",
       "      <td>Santo Stefano</td>\n",
       "      <td>PARCO PADERNO</td>\n",
       "      <td>Via Paderno</td>\n",
       "      <td>PARCO ESTENSIVO</td>\n",
       "      <td>PIANO</td>\n",
       "      <td>20 - 40%</td>\n",
       "      <td>MEDIO IMPASTO</td>\n",
       "      <td>-4.817</td>\n",
       "      <td>21360.397</td>\n",
       "      <td>...</td>\n",
       "      <td>Santo Stefano</td>\n",
       "      <td>PADERNO</td>\n",
       "      <td>OSSERVANZA - PADERNO</td>\n",
       "      <td>-0.000482</td>\n",
       "      <td>no</td>\n",
       "      <td>N/A</td>\n",
       "      <td>no</td>\n",
       "      <td>N/A</td>\n",
       "      <td>no</td>\n",
       "      <td>N/A</td>\n",
       "    </tr>\n",
       "  </tbody>\n",
       "</table>\n",
       "<p>5 rows × 27 columns</p>\n",
       "</div>"
      ],
      "text/plain": [
       "                                            geometry          quart  \\\n",
       "0  POLYGON ((11.31509 44.42248, 11.31511 44.42256...  Santo Stefano   \n",
       "1  POLYGON ((11.31288 44.42104, 11.31289 44.42109...  Santo Stefano   \n",
       "2  POLYGON ((11.31463 44.42146, 11.31496 44.42149...  Santo Stefano   \n",
       "3  POLYGON ((11.32362 44.45097, 11.32372 44.45110...  Santo Stefano   \n",
       "4  POLYGON ((11.32160 44.45340, 11.32164 44.45341...  Santo Stefano   \n",
       "\n",
       "                                    nome       ubicazione       classe_uni  \\\n",
       "0         PARCO DEI CALANCHI DI SABBIUNO  Via di Sabbiuno  PARCO ESTENSIVO   \n",
       "1  GIARDINO MONUMENTO CADUTI DI SABBIUNO  Via di Sabbiuno            PARCO   \n",
       "2         PARCO DEI CALANCHI DI SABBIUNO  Via di Sabbiuno  PARCO ESTENSIVO   \n",
       "3                          PARCO PADERNO      Via Paderno  PARCO ESTENSIVO   \n",
       "4                          PARCO PADERNO      Via Paderno  PARCO ESTENSIVO   \n",
       "\n",
       "  classe_gia classe_pen          classe_suo  area_prato    area_ug  ...  \\\n",
       "0  SOMMITALE     0 -20%  ARGILLOSO COMPATTO    9509.007  12461.168  ...   \n",
       "1  SOMMITALE     0 -20%  ARGILLOSO COMPATTO    5514.205    6730.89  ...   \n",
       "2  SOMMITALE     0 -20%  ARGILLOSO COMPATTO   16811.194  24817.745  ...   \n",
       "3      PIANO   20 - 40%       MEDIO IMPASTO      87.272   6250.574  ...   \n",
       "4      PIANO   20 - 40%       MEDIO IMPASTO      -4.817  21360.397  ...   \n",
       "\n",
       "       quartiere area_stati            zona_pross   area_Ha d_fountain id_df  \\\n",
       "0  Santo Stefano    PADERNO  OSSERVANZA - PADERNO  0.950901         no   N/A   \n",
       "1  Santo Stefano    PADERNO  OSSERVANZA - PADERNO  0.551420         no   N/A   \n",
       "2  Santo Stefano    PADERNO  OSSERVANZA - PADERNO  1.681119         no   N/A   \n",
       "3  Santo Stefano    PADERNO  OSSERVANZA - PADERNO  0.008727         no   N/A   \n",
       "4  Santo Stefano    PADERNO  OSSERVANZA - PADERNO -0.000482         no   N/A   \n",
       "\n",
       "  picnic_tab id_pt benches id_bench  \n",
       "0         no   N/A      no      N/A  \n",
       "1         no   N/A      no      N/A  \n",
       "2         no   N/A      no      N/A  \n",
       "3         no   N/A      no      N/A  \n",
       "4         no   N/A      no      N/A  \n",
       "\n",
       "[5 rows x 27 columns]"
      ]
     },
     "execution_count": 63,
     "metadata": {},
     "output_type": "execute_result"
    }
   ],
   "source": [
    "final_gdf4.head()"
   ]
  },
  {
   "cell_type": "code",
   "execution_count": 64,
   "metadata": {},
   "outputs": [
    {
     "data": {
      "text/plain": [
       "<Axes: >"
      ]
     },
     "execution_count": 64,
     "metadata": {},
     "output_type": "execute_result"
    },
    {
     "data": {
      "image/png": "[encoded data removed]",
      "text/plain": [
       "<Figure size 640x480 with 1 Axes>"
      ]
     },
     "metadata": {},
     "output_type": "display_data"
    }
   ],
   "source": [
    "final_gdf4.plot()"
   ]
  }
 ],
 "metadata": {
  "kernelspec": {
   "display_name": "geo",
   "language": "python",
   "name": "python3"
  },
  "language_info": {
   "codemirror_mode": {
    "name": "ipython",
    "version": 3
   },
   "file_extension": ".py",
   "mimetype": "text/x-python",
   "name": "python",
   "nbconvert_exporter": "python",
   "pygments_lexer": "ipython3",
   "version": "3.11.5"
  },
  "orig_nbformat": 4
 },
 "nbformat": 4,
 "nbformat_minor": 2
}
