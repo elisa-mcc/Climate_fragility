{
 "cells": [
{
   "cell_type": "markdown",
   "metadata": {},
   "source": [
    "This script identifies bus stops within the isochrones"
   ]
  },
  {
   "cell_type": "markdown",
   "metadata": {},
   "source": [
    "### 0. Libraries"
   ]
  },
  {
   "cell_type": "code",
   "execution_count": null,
   "metadata": {},
   "outputs": [],
   "source": [
    "import geopandas as gpd\n",
    "import pandas as pd\n"
   ]
  },
  {
   "cell_type": "markdown",
   "metadata": {},
   "source": [
    "### 1. Bus stop\n",
    "Identify the bus stop in each isochrone"
   ]
  },
  {
   "cell_type": "code",
   "execution_count": 53,
   "metadata": {},
   "outputs": [],
   "source": [
    "# Load the shapefile of bus stops\n",
    "# link: https://opendata.comune.bologna.it/explore/dataset/tper-fermate-autobus/information/?disjunctive.codice&disjunctive.codice_linea&disjunctive.quartiere\n",
    "bus_stop = gpd.read_file(\"D:/Climate_Shelter_Index/fermate_bus/tper-fermate-autobus.shp\")\n",
    "# Load the shapefile of isochrones\n",
    
    "isochrones = gpd.read_file (\"D:/Climate_Shelter_Index/isocrona/10min_isochrones.shp\" )"
   ]
  },
  {
   "cell_type": "code",
   "execution_count": 54,
   "metadata": {},
   "outputs": [
    {
     "data": {
      "text/html": [
       "<div>\n",
       "<style scoped>\n",
       "    .dataframe tbody tr th:only-of-type {\n",
       "        vertical-align: middle;\n",
       "    }\n",
       "\n",
       "    .dataframe tbody tr th {\n",
       "        vertical-align: top;\n",
       "    }\n",
       "\n",
       "    .dataframe thead th {\n",
       "        text-align: right;\n",
       "    }\n",
       "</style>\n",
       "<table border=\"1\" class=\"dataframe\">\n",
       "  <thead>\n",
       "    <tr style=\"text-align: right;\">\n",
       "      <th></th>\n",
       "      <th>min_dist</th>\n",
       "      <th>nome</th>\n",
       "      <th>geometry</th>\n",
       "    </tr>\n",
       "  </thead>\n",
       "  <tbody>\n",
       "    <tr>\n",
       "      <th>0</th>\n",
       "      <td>10</td>\n",
       "      <td>AIUOLA VIA ALTOBELLI</td>\n",
       "      <td>POLYGON ((11.27999 44.49796, 11.28415 44.50191...</td>\n",
       "    </tr>\n",
       "    <tr>\n",
       "      <th>1</th>\n",
       "      <td>10</td>\n",
       "      <td>AIUOLE  DANTI</td>\n",
       "      <td>POLYGON ((11.30458 44.49247, 11.30429 44.49218...</td>\n",
       "    </tr>\n",
       "    <tr>\n",
       "      <th>2</th>\n",
       "      <td>10</td>\n",
       "      <td>AIUOLE  RAMENGHI</td>\n",
       "      <td>POLYGON ((11.29943 44.49078, 11.29906 44.49065...</td>\n",
       "    </tr>\n",
       "    <tr>\n",
       "      <th>3</th>\n",
       "      <td>10</td>\n",
       "      <td>AIUOLE AIMO</td>\n",
       "      <td>POLYGON ((11.34802 44.52891, 11.34812 44.52797...</td>\n",
       "    </tr>\n",
       "    <tr>\n",
       "      <th>4</th>\n",
       "      <td>10</td>\n",
       "      <td>AIUOLE COMPARTO BECCACCINO LA PIRA CAPITINI</td>\n",
       "      <td>POLYGON ((11.29182 44.48931, 11.29157 44.48967...</td>\n",
       "    </tr>\n",
       "    <tr>\n",
       "      <th>...</th>\n",
       "      <td>...</td>\n",
       "      <td>...</td>\n",
       "      <td>...</td>\n",
       "    </tr>\n",
       "    <tr>\n",
       "      <th>404</th>\n",
       "      <td>10</td>\n",
       "      <td>VERDE CONDOMINIO VIA GALEAZZA 14 - 28</td>\n",
       "      <td>POLYGON ((11.27652 44.49596, 11.27467 44.49522...</td>\n",
       "    </tr>\n",
       "    <tr>\n",
       "      <th>405</th>\n",
       "      <td>10</td>\n",
       "      <td>VERDE PASOLINI - ORTI (EX GIARDINO P. P. PASOL...</td>\n",
       "      <td>POLYGON ((11.39728 44.51188, 11.39689 44.51179...</td>\n",
       "    </tr>\n",
       "    <tr>\n",
       "      <th>406</th>\n",
       "      <td>10</td>\n",
       "      <td>VERDE SPONDA RUZZOLA</td>\n",
       "      <td>POLYGON ((11.29340 44.50744, 11.29348 44.50738...</td>\n",
       "    </tr>\n",
       "    <tr>\n",
       "      <th>407</th>\n",
       "      <td>10</td>\n",
       "      <td>VIALE FELSINA-VICOLO NERO</td>\n",
       "      <td>POLYGON ((11.38389 44.49030, 11.38413 44.49031...</td>\n",
       "    </tr>\n",
       "    <tr>\n",
       "      <th>408</th>\n",
       "      <td>10</td>\n",
       "      <td>VILLA GUASTAVILLANI</td>\n",
       "      <td>POLYGON ((11.34185 44.46660, 11.34190 44.46653...</td>\n",
       "    </tr>\n",
       "  </tbody>\n",
       "</table>\n",
       "<p>409 rows × 3 columns</p>\n",
       "</div>"
      ],
      "text/plain": [
       "    min_dist                                               nome  \\\n",
       "0         10                               AIUOLA VIA ALTOBELLI   \n",
       "1         10                                      AIUOLE  DANTI   \n",
       "2         10                                   AIUOLE  RAMENGHI   \n",
       "3         10                                        AIUOLE AIMO   \n",
       "4         10        AIUOLE COMPARTO BECCACCINO LA PIRA CAPITINI   \n",
       "..       ...                                                ...   \n",
       "404       10              VERDE CONDOMINIO VIA GALEAZZA 14 - 28   \n",
       "405       10  VERDE PASOLINI - ORTI (EX GIARDINO P. P. PASOL...   \n",
       "406       10                               VERDE SPONDA RUZZOLA   \n",
       "407       10                          VIALE FELSINA-VICOLO NERO   \n",
       "408       10                                VILLA GUASTAVILLANI   \n",
       "\n",
       "                                              geometry  \n",
       "0    POLYGON ((11.27999 44.49796, 11.28415 44.50191...  \n",
       "1    POLYGON ((11.30458 44.49247, 11.30429 44.49218...  \n",
       "2    POLYGON ((11.29943 44.49078, 11.29906 44.49065...  \n",
       "3    POLYGON ((11.34802 44.52891, 11.34812 44.52797...  \n",
       "4    POLYGON ((11.29182 44.48931, 11.29157 44.48967...  \n",
       "..                                                 ...  \n",
       "404  POLYGON ((11.27652 44.49596, 11.27467 44.49522...  \n",
       "405  POLYGON ((11.39728 44.51188, 11.39689 44.51179...  \n",
       "406  POLYGON ((11.29340 44.50744, 11.29348 44.50738...  \n",
       "407  POLYGON ((11.38389 44.49030, 11.38413 44.49031...  \n",
       "408  POLYGON ((11.34185 44.46660, 11.34190 44.46653...  \n",
       "\n",
       "[409 rows x 3 columns]"
      ]
     },
     "execution_count": 54,
     "metadata": {},
     "output_type": "execute_result"
    }
   ],
   "source": [
    "isochrones"
   ]
  },
  {
   "cell_type": "code",
   "execution_count": 55,
   "metadata": {},
   "outputs": [],
   "source": [
    "unique_bus_stops = bus_stop.drop_duplicates(subset='codice', keep='first')"
   ]
  },
  {
   "cell_type": "code",
   "execution_count": null,
   "metadata": {},
   "outputs": [],
   "source": [
    "# Perform a spatial join to check if each isochrones contains a bus stop\n",
    "results_df = gpd.sjoin(isochrones[['min_dist','nome', 'geometry']], unique_bus_stops[['codice', 'geometry']], how=\"left\", op=\"intersects\")\n",
    "\n",
    "# Create a new column 'bus_stop' indicating if there is a bus stop\n",
    "results_df[\"bus_stop\"] = results_df[\"codice\"].notnull().replace({True: \"yes\", False: \"no\"})"
   ]
  },
  {
   "cell_type": "code",
   "execution_count": 57,
   "metadata": {},
   "outputs": [],
   "source": [
    "# Create a new column 'id_busstop' with the ID of the bus stop if present\n",
    "results_df[\"id_busstop\"] = results_df[\"codice\"].fillna(\"N/A\")"
   ]
  },
  {
   "cell_type": "code",
   "execution_count": 58,
   "metadata": {},
   "outputs": [],
   "source": [
    "results_df = results_df[['min_dist','nome', 'codice', 'bus_stop', 'id_busstop']]"
   ]
  },
  {
   "cell_type": "code",
   "execution_count": 59,
   "metadata": {},
   "outputs": [],
   "source": [
    "results_df = results_df.merge(unique_bus_stops[['codice', 'geometry']], \n",
    "                              left_on='id_busstop', right_on='codice', how='left')"
   ]
  },
  {
   "cell_type": "code",
   "execution_count": 60,
   "metadata": {},
   "outputs": [],
   "source": [
    "# Drop the duplicate  columns and rename \n",
    "results_df = results_df.drop(columns=[ 'codice_x', 'codice_y'])"
   ]
  },
  {
   "cell_type": "code",
   "execution_count": 61,
   "metadata": {},
   "outputs": [
    {
     "data": {
      "text/html": [
       "<div>\n",
       "<style scoped>\n",
       "    .dataframe tbody tr th:only-of-type {\n",
       "        vertical-align: middle;\n",
       "    }\n",
       "\n",
       "    .dataframe tbody tr th {\n",
       "        vertical-align: top;\n",
       "    }\n",
       "\n",
       "    .dataframe thead th {\n",
       "        text-align: right;\n",
       "    }\n",
       "</style>\n",
       "<table border=\"1\" class=\"dataframe\">\n",
       "  <thead>\n",
       "    <tr style=\"text-align: right;\">\n",
       "      <th></th>\n",
       "      <th>min_dist</th>\n",
       "      <th>nome</th>\n",
       "      <th>bus_stop</th>\n",
       "      <th>id_busstop</th>\n",
       "      <th>geometry</th>\n",
       "    </tr>\n",
       "  </thead>\n",
       "  <tbody>\n",
       "    <tr>\n",
       "      <th>0</th>\n",
       "      <td>10</td>\n",
       "      <td>AIUOLA VIA ALTOBELLI</td>\n",
       "      <td>yes</td>\n",
       "      <td>7140</td>\n",
       "      <td>POINT (11.28694 44.49412)</td>\n",
       "    </tr>\n",
       "    <tr>\n",
       "      <th>1</th>\n",
       "      <td>10</td>\n",
       "      <td>AIUOLA VIA ALTOBELLI</td>\n",
       "      <td>yes</td>\n",
       "      <td>7144</td>\n",
       "      <td>POINT (11.28452 44.49437)</td>\n",
       "    </tr>\n",
       "    <tr>\n",
       "      <th>2</th>\n",
       "      <td>10</td>\n",
       "      <td>AIUOLA VIA ALTOBELLI</td>\n",
       "      <td>yes</td>\n",
       "      <td>7143</td>\n",
       "      <td>POINT (11.28483 44.49477)</td>\n",
       "    </tr>\n",
       "    <tr>\n",
       "      <th>3</th>\n",
       "      <td>10</td>\n",
       "      <td>AIUOLA VIA ALTOBELLI</td>\n",
       "      <td>yes</td>\n",
       "      <td>7142</td>\n",
       "      <td>POINT (11.28478 44.49499)</td>\n",
       "    </tr>\n",
       "    <tr>\n",
       "      <th>4</th>\n",
       "      <td>10</td>\n",
       "      <td>AIUOLA VIA ALTOBELLI</td>\n",
       "      <td>yes</td>\n",
       "      <td>7162</td>\n",
       "      <td>POINT (11.28868 44.49530)</td>\n",
       "    </tr>\n",
       "  </tbody>\n",
       "</table>\n",
       "</div>"
      ],
      "text/plain": [
       "  min_dist                  nome bus_stop id_busstop  \\\n",
       "0       10  AIUOLA VIA ALTOBELLI      yes       7140   \n",
       "1       10  AIUOLA VIA ALTOBELLI      yes       7144   \n",
       "2       10  AIUOLA VIA ALTOBELLI      yes       7143   \n",
       "3       10  AIUOLA VIA ALTOBELLI      yes       7142   \n",
       "4       10  AIUOLA VIA ALTOBELLI      yes       7162   \n",
       "\n",
       "                    geometry  \n",
       "0  POINT (11.28694 44.49412)  \n",
       "1  POINT (11.28452 44.49437)  \n",
       "2  POINT (11.28483 44.49477)  \n",
       "3  POINT (11.28478 44.49499)  \n",
       "4  POINT (11.28868 44.49530)  "
      ]
     },
     "execution_count": 61,
     "metadata": {},
     "output_type": "execute_result"
    }
   ],
   "source": [
    "results_df.head()"
   ]
  },
  {
   "cell_type": "code",
   "execution_count": 62,
   "metadata": {},
   "outputs": [],
   "source": [
    "# Create a GeoDataFrame\n",
    "results_gdf = gpd.GeoDataFrame(results_df, geometry='geometry', crs=\"epsg:4326\")"
   ]
  },
  {
   "cell_type": "code",
   "execution_count": 63,
   "metadata": {},
   "outputs": [],
   "source": [
    "# Save the GeoDataFrame as a shapefile\n",
    "results_gdf.to_file('D:/Climate_Shelter_Index/isocrona/bus_stop_10_ga.shp')"
   ]
  },
  {
   "cell_type": "markdown",
   "metadata": {},
   "source": [
    "### 2. Number of bus stop per isochrone"
   ]
  },
  {
   "cell_type": "code",
   "execution_count": 64,
   "metadata": {},
   "outputs": [],
   "source": [
    "bus_stop_ga = gpd.read_file(r\"D:\\Climate_Shelter_Index\\isocrona\\bus_stop_10_ga.shp\")"
   ]
  },
  {
   "cell_type": "code",
   "execution_count": 65,
   "metadata": {},
   "outputs": [
    {
     "data": {
      "text/html": [
       "<div>\n",
       "<style scoped>\n",
       "    .dataframe tbody tr th:only-of-type {\n",
       "        vertical-align: middle;\n",
       "    }\n",
       "\n",
       "    .dataframe tbody tr th {\n",
       "        vertical-align: top;\n",
       "    }\n",
       "\n",
       "    .dataframe thead th {\n",
       "        text-align: right;\n",
       "    }\n",
       "</style>\n",
       "<table border=\"1\" class=\"dataframe\">\n",
       "  <thead>\n",
       "    <tr style=\"text-align: right;\">\n",
       "      <th></th>\n",
       "      <th>nome</th>\n",
       "      <th>min_dist</th>\n",
       "      <th>n_busstop</th>\n",
       "    </tr>\n",
       "  </thead>\n",
       "  <tbody>\n",
       "    <tr>\n",
       "      <th>0</th>\n",
       "      <td>AIUOLA VIA ALTOBELLI</td>\n",
       "      <td>10</td>\n",
       "      <td>30</td>\n",
       "    </tr>\n",
       "    <tr>\n",
       "      <th>1</th>\n",
       "      <td>AIUOLA VIA ALTOBELLI</td>\n",
       "      <td>10</td>\n",
       "      <td>30</td>\n",
       "    </tr>\n",
       "    <tr>\n",
       "      <th>2</th>\n",
       "      <td>AIUOLA VIA ALTOBELLI</td>\n",
       "      <td>10</td>\n",
       "      <td>30</td>\n",
       "    </tr>\n",
       "    <tr>\n",
       "      <th>3</th>\n",
       "      <td>AIUOLA VIA ALTOBELLI</td>\n",
       "      <td>10</td>\n",
       "      <td>30</td>\n",
       "    </tr>\n",
       "    <tr>\n",
       "      <th>4</th>\n",
       "      <td>AIUOLA VIA ALTOBELLI</td>\n",
       "      <td>10</td>\n",
       "      <td>30</td>\n",
       "    </tr>\n",
       "  </tbody>\n",
       "</table>\n",
       "</div>"
      ],
      "text/plain": [
       "                   nome min_dist  n_busstop\n",
       "0  AIUOLA VIA ALTOBELLI       10         30\n",
       "1  AIUOLA VIA ALTOBELLI       10         30\n",
       "2  AIUOLA VIA ALTOBELLI       10         30\n",
       "3  AIUOLA VIA ALTOBELLI       10         30\n",
       "4  AIUOLA VIA ALTOBELLI       10         30"
      ]
     },
     "execution_count": 65,
     "metadata": {},
     "output_type": "execute_result"
    }
   ],
   "source": [
    "# Create a DataFrame to store the aggregation\n",
    "sum_bus_stop = bus_stop_ga[['nome', 'min_dist']].copy()\n",
    "# Count the occurrences of each 'nome'\n",
    "sum_bus_stop['n_busstop'] = sum_bus_stop.groupby('nome')['nome'].transform('count')\n",
    "\n",
    "sum_bus_stop.head()"
   ]
  },
  {
   "cell_type": "code",
   "execution_count": 66,
   "metadata": {},
   "outputs": [],
   "source": [
    "# Drop duplicates to keep only unique rows\n",
    "sum_bus_stop = sum_bus_stop.drop_duplicates(subset=['nome', 'min_dist', 'n_busstop'])"
   ]
  },
  {
   "cell_type": "code",
   "execution_count": 67,
   "metadata": {},
   "outputs": [
    {
     "data": {
      "text/html": [
       "<div>\n",
       "<style scoped>\n",
       "    .dataframe tbody tr th:only-of-type {\n",
       "        vertical-align: middle;\n",
       "    }\n",
       "\n",
       "    .dataframe tbody tr th {\n",
       "        vertical-align: top;\n",
       "    }\n",
       "\n",
       "    .dataframe thead th {\n",
       "        text-align: right;\n",
       "    }\n",
       "</style>\n",
       "<table border=\"1\" class=\"dataframe\">\n",
       "  <thead>\n",
       "    <tr style=\"text-align: right;\">\n",
       "      <th></th>\n",
       "      <th>nome</th>\n",
       "      <th>min_dist</th>\n",
       "      <th>n_busstop</th>\n",
       "    </tr>\n",
       "  </thead>\n",
       "  <tbody>\n",
       "    <tr>\n",
       "      <th>0</th>\n",
       "      <td>AIUOLA VIA ALTOBELLI</td>\n",
       "      <td>10</td>\n",
       "      <td>30</td>\n",
       "    </tr>\n",
       "    <tr>\n",
       "      <th>30</th>\n",
       "      <td>AIUOLE  DANTI</td>\n",
       "      <td>10</td>\n",
       "      <td>15</td>\n",
       "    </tr>\n",
       "    <tr>\n",
       "      <th>45</th>\n",
       "      <td>AIUOLE  RAMENGHI</td>\n",
       "      <td>10</td>\n",
       "      <td>20</td>\n",
       "    </tr>\n",
       "    <tr>\n",
       "      <th>65</th>\n",
       "      <td>AIUOLE AIMO</td>\n",
       "      <td>10</td>\n",
       "      <td>14</td>\n",
       "    </tr>\n",
       "    <tr>\n",
       "      <th>79</th>\n",
       "      <td>AIUOLE COMPARTO BECCACCINO LA PIRA CAPITINI</td>\n",
       "      <td>10</td>\n",
       "      <td>29</td>\n",
       "    </tr>\n",
       "  </tbody>\n",
       "</table>\n",
       "</div>"
      ],
      "text/plain": [
       "                                           nome min_dist  n_busstop\n",
       "0                          AIUOLA VIA ALTOBELLI       10         30\n",
       "30                                AIUOLE  DANTI       10         15\n",
       "45                             AIUOLE  RAMENGHI       10         20\n",
       "65                                  AIUOLE AIMO       10         14\n",
       "79  AIUOLE COMPARTO BECCACCINO LA PIRA CAPITINI       10         29"
      ]
     },
     "execution_count": 67,
     "metadata": {},
     "output_type": "execute_result"
    }
   ],
   "source": [
    "sum_bus_stop.head()"
   ]
  },
  {
   "cell_type": "code",
   "execution_count": 68,
   "metadata": {},
   "outputs": [],
   "source": [
    "sum_bus_stop.to_csv('D:/Climate_Shelter_Index/isocrona/sum_bus_10_stop.csv', index=False)"
   ]
  }
 ],
 "metadata": {
  "kernelspec": {
   "display_name": "geoss",
   "language": "python",
   "name": "python3"
  },
  "language_info": {
   "codemirror_mode": {
    "name": "ipython",
    "version": 3
   },
   "file_extension": ".py",
   "mimetype": "text/x-python",
   "name": "python",
   "nbconvert_exporter": "python",
   "pygments_lexer": "ipython3",
   "version": "3.11.5"
  },
  "orig_nbformat": 4
 },
 "nbformat": 4,
 "nbformat_minor": 2
}
