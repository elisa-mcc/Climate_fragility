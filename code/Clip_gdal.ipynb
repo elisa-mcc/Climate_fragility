{
 "cells": [
  {
   "cell_type": "code",
   "execution_count": 1,
   "metadata": {},
   "outputs": [],
   "source": [
    "from osgeo import gdal, ogr, osr\n",
    "import os"
   ]
  },
  {
   "cell_type": "code",
   "execution_count": 2,
   "metadata": {},
   "outputs": [],
   "source": [
    "# Paths to input and output folders\n",
    "input_folder = 'input_folder_path'\n",
    "output_folder = 'output_folder_path'\n",
    "\n",
    "# Path to the shapefile containing the clipping polygon\n",
    "shapefile = 'path_shapefile'"
   ]
  },
  {
   "cell_type": "code",
   "execution_count": 3,
   "metadata": {},
   "outputs": [
    {
     "name": "stderr",
     "output_type": "stream",
     "text": [
      "c:\\Users\\elima\\anaconda3\\envs\\pygdal\\Lib\\site-packages\\osgeo\\osr.py:385: FutureWarning: Neither osr.UseExceptions() nor osr.DontUseExceptions() has been explicitly called. In GDAL 4.0, exceptions will be enabled by default.\n",
      "  warnings.warn(\n"
     ]
    },
    {
     "data": {
      "text/plain": [
       "0"
      ]
     },
     "execution_count": 3,
     "metadata": {},
     "output_type": "execute_result"
    }
   ],
   "source": [
    "# Create a spatial reference object for CRS 4326\n",
    "crs_4326 = osr.SpatialReference()\n",
    "crs_4326.ImportFromEPSG(4326)\n"
   ]
  },
  {
   "cell_type": "code",
   "execution_count": 4,
   "metadata": {},
   "outputs": [],
   "source": [
    "# Open the shapefile and get the layer\n",
    "shape_ds = ogr.Open(shapefile)\n",
    "layer = shape_ds.GetLayer()"
   ]
  },
  {
   "cell_type": "code",
   "execution_count": 5,
   "metadata": {},
   "outputs": [],
   "source": [
    "# Loop through each GeoTIFF file in the input folder\n",
    "for input_geotiff in os.listdir(input_folder):\n",
    "    if input_geotiff.endswith('.tif'):\n",
    "        input_geotiff_path = os.path.join(input_folder, input_geotiff)\n",
    "        \n",
    "        # Open the input GeoTIFF dataset\n",
    "        input_ds = gdal.Open(input_geotiff_path)\n",
    "\n",
    "        # Check if input GeoTIFF is not in CRS 4326, and reproject if needed\n",
    "        if input_ds.GetProjection() != crs_4326.ExportToWkt():\n",
    "            input_ds = gdal.Warp('reprojected.tif', input_ds, dstSRS=crs_4326.ExportToWkt())\n",
    "            input_geotiff_path = 'reprojected.tif'  # Update input file path\n",
    "\n",
    "        # Get the geometry of the clipping feature\n",
    "        feature = layer.GetFeature(0)  # Assuming you want to clip using the first feature\n",
    "        clipping_geometry = feature.GetGeometryRef()\n",
    "\n",
    "        # Create WarpOptions for clipping\n",
    "        warp_options = gdal.WarpOptions(cutlineDSName=shapefile, cutlineWhere=f'FID={feature.GetFID()}', cropToCutline=True, dstSRS=crs_4326.ExportToWkt())\n",
    "\n",
    "        # Create the output file path\n",
    "        output_geotiff_path = os.path.join(output_folder, input_geotiff)\n",
    "\n",
    "        # Perform the clipping using Warp\n",
    "        output_ds = gdal.Warp(output_geotiff_path, [input_ds], options=warp_options)\n",
    "\n",
    "        # Close the datasets\n",
    "        input_ds = None\n",
    "        output_ds = None\n",
    "\n",
    "# Close the shapefile dataset\n",
    "shape_ds = None"
   ]
  }
 ],
 "metadata": {
  "kernelspec": {
   "display_name": "pygdal",
   "language": "python",
   "name": "python3"
  },
  "language_info": {
   "codemirror_mode": {
    "name": "ipython",
    "version": 3
   },
   "file_extension": ".py",
   "mimetype": "text/x-python",
   "name": "python",
   "nbconvert_exporter": "python",
   "pygments_lexer": "ipython3",
   "version": "3.11.4"
  },
  "orig_nbformat": 4
 },
 "nbformat": 4,
 "nbformat_minor": 2
}
