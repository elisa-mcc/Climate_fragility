{
 "cells": [
  {
   "cell_type": "markdown",
   "metadata": {},
   "source": [
    "This code identifies hot and cold spots "
   ]
  },
  {
   "cell_type": "markdown",
   "metadata": {},
   "source": [
    "### 0. Libraries"
   ]
  },
  {
   "cell_type": "code",
   "execution_count": 4,
   "metadata": {},
   "outputs": [],
   "source": [
    "#libraries\n",
    "import os\n",
    "import geopandas as gpd\n",
    "import rasterio\n",
    "from rasterio.warp import calculate_default_transform, reproject, Resampling\n",
    "import numpy as np\n"
   ]
  },
  {
   "cell_type": "markdown",
   "metadata": {},
   "source": [
    "### 1. Reprojecting GeoTIFF"
   ]
  },
  {
   "cell_type": "code",
   "execution_count": 5,
   "metadata": {},
   "outputs": [],
   "source": [
    "# Function to reproject GeoTIFF file to EPSG 4326\n",
    "def reproject_to_4326(input_file, output_file):\n",
    "    with rasterio.open(input_file) as src:\n",
    "        transform, width, height = calculate_default_transform(src.crs, 'EPSG:4326', src.width, src.height, *src.bounds)\n",
    "        kwargs = src.meta.copy()\n",
    "        kwargs.update({\n",
    "            'crs': 'EPSG:4326',\n",
    "            'transform': transform,\n",
    "            'width': width,\n",
    "            'height': height\n",
    "        })\n",
    "\n",
    "        with rasterio.open(output_file, 'w', **kwargs) as dst:\n",
    "            for i in range(1, src.count + 1):\n",
    "                reproject(\n",
    "                    source=rasterio.band(src, i),\n",
    "                    destination=rasterio.band(dst, i),\n",
    "                    src_transform=src.transform,\n",
    "                    src_crs=src.crs,\n",
    "                    dst_transform=transform,\n",
    "                    dst_crs='EPSG:4326',\n",
    "                    resampling=Resampling.nearest\n",
    "                )\n"
   ]
  },
  {
   "cell_type": "code",
   "execution_count": 6,
   "metadata": {},
   "outputs": [],
   "source": [
    "# Folder containing GeoTIFF files\n",
    "folder_path = r\"D:\\Meteoblue\\Air_temperature_Bologna\\Estati_22_23\"\n",
    "\n",
    "# Loop through all GeoTIFF files in the folder and reproject them\n",
    "for filename in os.listdir(folder_path):\n",
    "    if filename.endswith('.tif') or filename.endswith('.tiff'):\n",
    "        input_file = os.path.join(folder_path, filename)\n",
    "        output_file = os.path.join(folder_path, f'reprojected_{filename}')  # Change the output filename if needed\n",
    "        reproject_to_4326(input_file, output_file)"
   ]
  },
  {
   "cell_type": "markdown",
   "metadata": {},
   "source": [
    "### 2. Hot and Cold Spot"
   ]
  },
  {
   "cell_type": "code",
   "execution_count": 22,
   "metadata": {},
   "outputs": [],
   "source": [
    "# Path to the folder containing the TIFF files\n",
    "folder_path = r\"D:\\Meteoblue\\Air_temperature_Bologna\\Estati_22_23\\reprojected_bologna\""
   ]
  },
  {
   "cell_type": "code",
   "execution_count": 23,
   "metadata": {},
   "outputs": [],
   "source": [
    "# Get a list of all TIFF files in the folder\n",
    "tif_files = [f for f in os.listdir(folder_path)]"
   ]
  },
  {
   "cell_type": "code",
   "execution_count": 24,
   "metadata": {},
   "outputs": [],
   "source": [
    "# Function to process a TIFF file and return the hot and cold spots\n",
    "def process_tiff(tif_path):\n",
    "    with rasterio.open(tif_path) as src:\n",
    "        # Read the raster data as a NumPy array\n",
    "        temperature_matrix = src.read(1)  # Assuming temperature is stored in the first band\n",
    "\n",
    "        # Calculate quartiles for non-zero values\n",
    "        non_zero_values = temperature_matrix[temperature_matrix != 0]\n",
    "        q25 = np.percentile(non_zero_values, 25) \n",
    "        q50 = np.percentile(non_zero_values, 50) \n",
    "        q75 = np.percentile(non_zero_values, 75) \n",
    "\n",
    "        # Find indices of cells of q1, q2, q3, q4\n",
    "        q4_hot_spot_indices = np.argwhere((temperature_matrix > q75) & (temperature_matrix != 0))\n",
    "        q3_indices = np.argwhere((temperature_matrix > q50) & (temperature_matrix < q75) & (temperature_matrix != 0))\n",
    "        q2_indices = np.argwhere((temperature_matrix > q25) & (temperature_matrix < q50) & (temperature_matrix != 0))\n",
    "        q1_cold_spot_indices = np.argwhere((temperature_matrix < q25) & (temperature_matrix != 0))\n",
    "        \n",
    "        return q4_hot_spot_indices, q3_indices, q2_indices, q1_cold_spot_indices"
   ]
  },
  {
   "cell_type": "code",
   "execution_count": 27,
   "metadata": {},
   "outputs": [],
   "source": [
    "# Dictionary to store hot and cold spot arrays for each TIFF file\n",
    "q4_hot_spot_results = {}\n",
    "q3_results = {}\n",
    "q2_results = {}\n",
    "q1_cold_spot_results = {}\n",
    "\n",
    "# Iterate through each TIFF file\n",
    "for tif_file in tif_files:\n",
    "    tif_path = os.path.join(folder_path, tif_file)\n",
    "    \n",
    "    # Process the TIFF file\n",
    "    q4_hot_spot_indices, q3_indices, q2_indices, q1_cold_spot_indices = process_tiff(tif_path)\n",
    "    \n",
    "    # Store the hot and cold spot indices in the dictionaries\n",
    "    q4_hot_spot_results[tif_file] = q4_hot_spot_indices\n",
    "    q3_results[tif_file] = q3_indices\n",
    "    q2_results[tif_file] = q2_indices\n",
    "    q1_cold_spot_results[tif_file] = q1_cold_spot_indices"
   ]
  },
  {
   "cell_type": "code",
   "execution_count": 28,
   "metadata": {},
   "outputs": [],
   "source": [
    "# Create a dictionary to count the occurrences of each cell position for hot and cold spots\n",
    "q4_hot_cell_count = {}\n",
    "q3_cell_count = {}\n",
    "q2_cell_count =  {}\n",
    "q1_cold_cell_count = {}\n",
    "\n",
    "# Iterate through hot and cold spot arrays from TIFF files\n",
    "#### Q4\n",
    "for tif_file, hot_spot_indices in q4_hot_spot_results.items():\n",
    "    for row, col in hot_spot_indices:\n",
    "        cell_position = (row, col)\n",
    "        \n",
    "        # Increment the count for the cell position in hot spots\n",
    "        if cell_position in q4_hot_cell_count:\n",
    "            q4_hot_cell_count[cell_position] += 1\n",
    "        else:\n",
    "            q4_hot_cell_count[cell_position] = 1\n",
    "\n",
    "#### Q3\n",
    "for tif_file, q3_spot_indices in q3_results.items():\n",
    "    for row, col in q3_spot_indices:\n",
    "        cell_position = (row, col)\n",
    "        \n",
    "        # Increment the count for the cell position in hot spots\n",
    "        if cell_position in q3_cell_count:\n",
    "            q3_cell_count[cell_position] += 1\n",
    "        else:\n",
    "            q3_cell_count[cell_position] = 1\n",
    "\n",
    "#### Q2\n",
    "for tif_file, q2_spot_indices in q2_results.items():\n",
    "    for row, col in q2_spot_indices:\n",
    "        cell_position = (row, col)\n",
    "        \n",
    "        # Increment the count for the cell position in hot spots\n",
    "        if cell_position in q2_cell_count:\n",
    "            q2_cell_count[cell_position] += 1\n",
    "        else:\n",
    "            q2_cell_count[cell_position] = 1\n",
    "\n",
    "\n",
    "\n",
    "#### Q1\n",
    "for tif_file, cold_spot_indices in q1_cold_spot_results.items():\n",
    "    for row, col in cold_spot_indices:\n",
    "        cell_position = (row, col)\n",
    "        \n",
    "        # Increment the count for the cell position in cold spots\n",
    "        if cell_position in q1_cold_cell_count:\n",
    "            q1_cold_cell_count[cell_position] += 1\n",
    "        else:\n",
    "            q1_cold_cell_count[cell_position] = 1\n",
    "\n",
    "# Create datasets for hot and cold spots that occur more than 92 times (at least half of the total days)\n",
    "q4_hot_spot_dataset = [(row, col, count) for (row, col), count in q4_hot_cell_count.items() if count > 92]\n",
    "q3_spot_dataset = [(row, col, count) for (row, col), count in q3_cell_count.items() if count > 92]\n",
    "q2_spot_dataset = [(row, col, count) for (row, col), count in q2_cell_count.items()if count > 92]\n",
    "q1_cold_spot_dataset = [(row, col, count) for (row, col), count in q1_cold_cell_count.items() if count > 92]\n",
    "\n"
   ]
  },
  {
   "cell_type": "code",
   "execution_count": 29,
   "metadata": {},
   "outputs": [],
   "source": [
    "# Load the original GeoTIFF you want to mark\n",
    "original_tiff_path = r\"D:\\Meteoblue\\Air_temperature_Bologna\\Estati_22_23\\bologna_2022060116Z.tif\"\n",
    "with rasterio.open(original_tiff_path) as src:\n",
    "    original_data = src.read(1)\n",
    "    profile = src.profile"
   ]
  },
  {
   "cell_type": "code",
   "execution_count": 30,
   "metadata": {},
   "outputs": [],
   "source": [
    "# Create arrays for marked spots \n",
    "marked_data = np.empty_like(original_data, dtype=object)"
   ]
  },
  {
   "cell_type": "code",
   "execution_count": 32,
   "metadata": {},
   "outputs": [],
   "source": [
    "# Define numerical values for the classes\n",
    "class_values = {\n",
    "    'Q4': 4,\n",
    "    'Q3': 3,\n",
    "    'Q2': 2,\n",
    "    'Q1': 1,\n",
    "}"
   ]
  },
  {
   "cell_type": "code",
   "execution_count": 34,
   "metadata": {},
   "outputs": [],
   "source": [
    "# Mark hot spots in the q4_hot_spot_marked array\n",
    "for row, col, _ in q4_hot_spot_dataset:\n",
    "    marked_data[row, col] = class_values['Q4']\n",
    "\n",
    "# Mark spots in the q3_spot_dataset array\n",
    "for row, col, _ in q3_spot_dataset:\n",
    "    marked_data[row, col] = class_values['Q3']\n",
    "\n",
    "# Mark spots in the q2_spot_dataset array\n",
    "for row, col, _ in q2_spot_dataset:\n",
    "    marked_data[row, col] = class_values['Q2']\n",
    "\n",
    "# Mark cold spots in the q1_cold_spot_marked array\n",
    "for row, col, _ in q1_cold_spot_dataset:\n",
    "    marked_data[row, col] = class_values['Q1']\n",
    "\n"
   ]
  },
  {
   "cell_type": "code",
   "execution_count": 35,
   "metadata": {},
   "outputs": [],
   "source": [
    "# Save marked hot spot and cold spot arrays as separate GeoTIFFs\n",
    "output_directory = r\"D:\\Meteoblue\\Air_temperature_Bologna\\Estati_22_23\\Hot_Cold_Spot\" \n",
    "output_tiff_path = os.path.join(output_directory, \"hot_cold_spots.tif\")\n",
    "with rasterio.open(output_tiff_path, 'w', **src.profile) as dst:\n",
    "    dst.write(marked_data, 1)"
   ]
  }
 ],
 "metadata": {
  "kernelspec": {
   "display_name": "geo",
   "language": "python",
   "name": "python3"
  },
  "language_info": {
   "codemirror_mode": {
    "name": "ipython",
    "version": 3
   },
   "file_extension": ".py",
   "mimetype": "text/x-python",
   "name": "python",
   "nbconvert_exporter": "python",
   "pygments_lexer": "ipython3",
   "version": "3.11.5"
  },
  "orig_nbformat": 4
 },
 "nbformat": 4,
 "nbformat_minor": 2
}
